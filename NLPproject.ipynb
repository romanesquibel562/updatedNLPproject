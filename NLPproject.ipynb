{
 "cells": [
  {
   "cell_type": "code",
   "execution_count": 21,
   "id": "fa9a7730-47df-4c8d-a48b-5d6696d2f080",
   "metadata": {},
   "outputs": [
    {
     "name": "stdout",
     "output_type": "stream",
     "text": [
      "[]\n"
     ]
    }
   ],
   "source": [
    "import os\n",
    "os.environ[\"PATH\"] += r\";C:\\chromedriver\"  # Add chromedriver folder to system PATH\n",
    "\n",
    "from selenium import webdriver\n",
    "from selenium.webdriver.chrome.service import Service\n",
    "from selenium.webdriver.chrome.options import Options\n",
    "from selenium.webdriver.common.by import By\n",
    "\n",
    "def get_news_selenium(ticker):\n",
    "    url = f\"https://www.marketwatch.com/investing/stock/{ticker}/news\"\n",
    "    \n",
    "    options = Options()\n",
    "    options.add_argument(\"--headless\")  # Headless mode for Jupyter\n",
    "    options.add_argument(\"--no-sandbox\")\n",
    "    options.add_argument(\"--disable-dev-shm-usage\")\n",
    "\n",
    "    driver = webdriver.Chrome(options=options)\n",
    "    \n",
    "    driver.get(url)\n",
    "    headlines = [elem.text for elem in driver.find_elements(By.TAG_NAME, \"h3\")]\n",
    "    \n",
    "    driver.quit()\n",
    "    return headlines\n",
    "\n",
    "# Test function\n",
    "news = get_news_selenium(\"NVDA\")\n",
    "print(news[:5])  # Print first 5 headlines\n"
   ]
  },
  {
   "cell_type": "code",
   "execution_count": 23,
   "id": "07b19e7b-554f-4a41-9896-b1fa504f2aeb",
   "metadata": {},
   "outputs": [
    {
     "name": "stdout",
     "output_type": "stream",
     "text": [
      "Collecting newsapi-python\n",
      "  Downloading newsapi_python-0.2.7-py2.py3-none-any.whl.metadata (1.2 kB)\n",
      "Requirement already satisfied: requests<3.0.0 in c:\\users\\roman\\appdata\\local\\programs\\python\\python38\\lib\\site-packages (from newsapi-python) (2.31.0)\n",
      "Requirement already satisfied: charset-normalizer<4,>=2 in c:\\users\\roman\\appdata\\local\\programs\\python\\python38\\lib\\site-packages (from requests<3.0.0->newsapi-python) (3.2.0)\n",
      "Requirement already satisfied: idna<4,>=2.5 in c:\\users\\roman\\appdata\\local\\programs\\python\\python38\\lib\\site-packages (from requests<3.0.0->newsapi-python) (3.4)\n",
      "Requirement already satisfied: urllib3<3,>=1.21.1 in c:\\users\\roman\\appdata\\local\\programs\\python\\python38\\lib\\site-packages (from requests<3.0.0->newsapi-python) (2.0.4)\n",
      "Requirement already satisfied: certifi>=2017.4.17 in c:\\users\\roman\\appdata\\local\\programs\\python\\python38\\lib\\site-packages (from requests<3.0.0->newsapi-python) (2023.7.22)\n",
      "Downloading newsapi_python-0.2.7-py2.py3-none-any.whl (7.9 kB)\n",
      "Installing collected packages: newsapi-python\n",
      "Successfully installed newsapi-python-0.2.7\n"
     ]
    }
   ],
   "source": [
    "!pip install newsapi-python\n"
   ]
  },
  {
   "cell_type": "code",
   "execution_count": null,
   "id": "52e707f5-5b24-4294-a315-a6133eacce6d",
   "metadata": {},
   "outputs": [],
   "source": [
    "import os\n",
    "\n",
    "api_key = os.getenv('NEWS_API_KEY')  # Get the API key from environment variable\n"
   ]
  },
  {
   "cell_type": "code",
   "execution_count": 25,
   "id": "48161ac1-702b-4a72-8956-59c5bffb2fee",
   "metadata": {},
   "outputs": [
    {
     "name": "stdout",
     "output_type": "stream",
     "text": [
      "Requirement already satisfied: python-dotenv in c:\\users\\roman\\appdata\\local\\programs\\python\\python38\\lib\\site-packages (1.0.1)\n"
     ]
    }
   ],
   "source": [
    "!pip install python-dotenv\n"
   ]
  },
  {
   "cell_type": "code",
   "execution_count": null,
   "id": "ce2eb941-83d5-4663-b101-ec47a4cf03e7",
   "metadata": {},
   "outputs": [],
   "source": [
    "NEWS_API_KEY=YOUR_API_KEY\n"
   ]
  },
  {
   "cell_type": "code",
   "execution_count": null,
   "id": "84590ed0-62a0-4eac-8469-49d7b5b12e3f",
   "metadata": {},
   "outputs": [],
   "source": []
  }
 ],
 "metadata": {
  "kernelspec": {
   "display_name": "Python 3 (ipykernel)",
   "language": "python",
   "name": "python3"
  },
  "language_info": {
   "codemirror_mode": {
    "name": "ipython",
    "version": 3
   },
   "file_extension": ".py",
   "mimetype": "text/x-python",
   "name": "python",
   "nbconvert_exporter": "python",
   "pygments_lexer": "ipython3",
   "version": "3.8.0"
  }
 },
 "nbformat": 4,
 "nbformat_minor": 5
}
